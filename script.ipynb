{
 "cells": [
  {
   "cell_type": "markdown",
   "metadata": {},
   "source": [
    "# Scrapping Website P3DN"
   ]
  },
  {
   "cell_type": "markdown",
   "metadata": {},
   "source": [
    "#### Import Bahan Penting"
   ]
  },
  {
   "cell_type": "code",
   "execution_count": 2,
   "metadata": {},
   "outputs": [],
   "source": [
    "import json\n",
    "import asyncio\n",
    "import time\n",
    "from datetime import datetime\n",
    "import os\n",
    "\n",
    "import nest_asyncio\n",
    "from selenium import webdriver\n",
    "from selenium.webdriver.common.by import By\n",
    "from selenium.webdriver.support.ui import WebDriverWait\n",
    "from selenium.webdriver.support import expected_conditions as EC"
   ]
  },
  {
   "cell_type": "markdown",
   "metadata": {},
   "source": [
    "#### Check Web Driver"
   ]
  },
  {
   "cell_type": "code",
   "execution_count": 5,
   "metadata": {},
   "outputs": [],
   "source": [
    "# Inisialisasi driver Chrome\n",
    "driver = webdriver.Chrome()\n",
    "# Buka halaman web\n",
    "driver.get('https://tkdn.kemenperin.go.id/rekap.php')\n",
    "# Maksimalkan ukuran jendela browser\n",
    "driver.maximize_window()"
   ]
  },
  {
   "cell_type": "markdown",
   "metadata": {},
   "source": [
    "#### Ujicoba Scraping Data"
   ]
  },
  {
   "cell_type": "code",
   "execution_count": 20,
   "metadata": {},
   "outputs": [
    {
     "name": "stdout",
     "output_type": "stream",
     "text": [
      "Kelompok Barang 1: Bahan Penunjang Pertanian\n",
      "Kelompok Barang 2: Mesin dan Peralatan Pertanian\n",
      "Kelompok Barang 3: Mesin dan Peralatan Pertambangan\n",
      "Kelompok Barang 4: Mesin dan Peralatan Migas\n",
      "Kelompok Barang 5: Alat Berat, Konstruksi dan Material Handling\n",
      "Kelompok Barang 6: Mesin dan Peralatan Pabrik\n",
      "Kelompok Barang 7: Bahan Bangunan/Konstruksi\n",
      "Kelompok Barang 8: Logam dan Barang Logam\n",
      "Kelompok Barang 9: Bahan Kimia dan Barang Kimia\n",
      "Kelompok Barang 10: Peralatan Elektronika\n",
      "Kelompok Barang 11: Peralatan Kelistrikan\n",
      "Kelompok Barang 12: Peralatan Telekomunikasi\n",
      "Kelompok Barang 13: Alat Transport\n",
      "Kelompok Barang 14: Bahan dan Peralatan Kesehatan\n",
      "Kelompok Barang 15: Peralatan Laboratrorium\n",
      "Kelompok Barang 16: Komputer dan Peralatan Kantor\n",
      "Kelompok Barang 17: Pakaian dan Perlengkapan Kerja\n",
      "Kelompok Barang 18: Peralatan Olahraga dan Pendidikan\n",
      "Kelompok Barang 19: Sarana Pertahanan\n",
      "Kelompok Barang 20: Barang Lainnya\n",
      "Kelompok Barang 21: Jumlah\n"
     ]
    }
   ],
   "source": [
    "#//*[@id=\"content\"]/div/div/div/div[1]\n",
    "\n",
    "kelompok_barang_jamak=driver.find_elements(\"xpath\",'//*[@id=\"content\"]/div/div/div/div[1]/div[2]/table/tbody/tr/td[2]')\n",
    "\n",
    "i = 1\n",
    "\n",
    "for kelompok_barang in kelompok_barang_jamak:\n",
    "    \n",
    "    nama = kelompok_barang.text.strip()\n",
    "    if nama:\n",
    "        print(f\"Kelompok Barang {i}: {nama}\")\n",
    "        i += 1\n"
   ]
  }
 ],
 "metadata": {
  "kernelspec": {
   "display_name": "Python 3",
   "language": "python",
   "name": "python3"
  },
  "language_info": {
   "codemirror_mode": {
    "name": "ipython",
    "version": 3
   },
   "file_extension": ".py",
   "mimetype": "text/x-python",
   "name": "python",
   "nbconvert_exporter": "python",
   "pygments_lexer": "ipython3",
   "version": "3.12.0"
  }
 },
 "nbformat": 4,
 "nbformat_minor": 2
}
